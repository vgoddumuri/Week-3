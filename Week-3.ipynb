{
 "cells": [
  {
   "cell_type": "code",
   "execution_count": 1,
   "id": "866884c8",
   "metadata": {
    "scrolled": true
   },
   "outputs": [],
   "source": [
    "# import libraries\n",
    "import pandas as pd\n",
    "import numpy as np\n",
    "from scipy.stats import zscore\n",
    "from sklearn.linear_model import LinearRegression\n",
    "from sklearn.model_selection import train_test_split\n",
    "from sklearn.metrics import mean_squared_error\n",
    "from sklearn.metrics import r2_score\n",
    "from sklearn.linear_model import LogisticRegression\n",
    "from sklearn.metrics import accuracy_score,confusion_matrix,classification_report\n",
    "from sklearn.preprocessing import LabelEncoder\n",
    "import warnings\n",
    "from sklearn.exceptions import ConvergenceWarning\n",
    "from statsmodels.tsa.arima.model import ARIMA\n",
    "import matplotlib.pyplot as plt\n",
    "import seaborn as sns\n",
    "from sklearn.tree import DecisionTreeClassifier, plot_tree\n",
    "from sklearn.ensemble import RandomForestClassifier"
   ]
  },
  {
   "cell_type": "code",
   "execution_count": 2,
   "id": "b55382bf",
   "metadata": {},
   "outputs": [
    {
     "data": {
      "text/html": [
       "<div>\n",
       "<style scoped>\n",
       "    .dataframe tbody tr th:only-of-type {\n",
       "        vertical-align: middle;\n",
       "    }\n",
       "\n",
       "    .dataframe tbody tr th {\n",
       "        vertical-align: top;\n",
       "    }\n",
       "\n",
       "    .dataframe thead th {\n",
       "        text-align: right;\n",
       "    }\n",
       "</style>\n",
       "<table border=\"1\" class=\"dataframe\">\n",
       "  <thead>\n",
       "    <tr style=\"text-align: right;\">\n",
       "      <th></th>\n",
       "      <th>Customer_ID</th>\n",
       "      <th>Customer_Name</th>\n",
       "      <th>Region</th>\n",
       "      <th>Total_Spend</th>\n",
       "      <th>Purchase_Frequency</th>\n",
       "      <th>Marketing_Spend</th>\n",
       "      <th>Seasonality_Index</th>\n",
       "      <th>Churned</th>\n",
       "    </tr>\n",
       "  </thead>\n",
       "  <tbody>\n",
       "    <tr>\n",
       "      <th>0</th>\n",
       "      <td>101</td>\n",
       "      <td>John Doe</td>\n",
       "      <td>North</td>\n",
       "      <td>5000</td>\n",
       "      <td>12</td>\n",
       "      <td>2000</td>\n",
       "      <td>1.2</td>\n",
       "      <td>No</td>\n",
       "    </tr>\n",
       "    <tr>\n",
       "      <th>1</th>\n",
       "      <td>102</td>\n",
       "      <td>Jane Smith</td>\n",
       "      <td>South</td>\n",
       "      <td>3000</td>\n",
       "      <td>8</td>\n",
       "      <td>1500</td>\n",
       "      <td>1.0</td>\n",
       "      <td>Yes</td>\n",
       "    </tr>\n",
       "    <tr>\n",
       "      <th>2</th>\n",
       "      <td>103</td>\n",
       "      <td>Sam Brown</td>\n",
       "      <td>East</td>\n",
       "      <td>4500</td>\n",
       "      <td>10</td>\n",
       "      <td>1800</td>\n",
       "      <td>1.1</td>\n",
       "      <td>No</td>\n",
       "    </tr>\n",
       "    <tr>\n",
       "      <th>3</th>\n",
       "      <td>104</td>\n",
       "      <td>Linda Johnson</td>\n",
       "      <td>West</td>\n",
       "      <td>2500</td>\n",
       "      <td>5</td>\n",
       "      <td>1000</td>\n",
       "      <td>0.9</td>\n",
       "      <td>Yes</td>\n",
       "    </tr>\n",
       "    <tr>\n",
       "      <th>4</th>\n",
       "      <td>105</td>\n",
       "      <td>Michael Lee</td>\n",
       "      <td>North</td>\n",
       "      <td>7000</td>\n",
       "      <td>15</td>\n",
       "      <td>2500</td>\n",
       "      <td>1.3</td>\n",
       "      <td>No</td>\n",
       "    </tr>\n",
       "    <tr>\n",
       "      <th>5</th>\n",
       "      <td>106</td>\n",
       "      <td>Emily Davis</td>\n",
       "      <td>South</td>\n",
       "      <td>3200</td>\n",
       "      <td>7</td>\n",
       "      <td>1400</td>\n",
       "      <td>1.0</td>\n",
       "      <td>Yes</td>\n",
       "    </tr>\n",
       "    <tr>\n",
       "      <th>6</th>\n",
       "      <td>107</td>\n",
       "      <td>David Wilson</td>\n",
       "      <td>East</td>\n",
       "      <td>5300</td>\n",
       "      <td>14</td>\n",
       "      <td>2300</td>\n",
       "      <td>1.2</td>\n",
       "      <td>No</td>\n",
       "    </tr>\n",
       "    <tr>\n",
       "      <th>7</th>\n",
       "      <td>108</td>\n",
       "      <td>Susan White</td>\n",
       "      <td>West</td>\n",
       "      <td>2900</td>\n",
       "      <td>6</td>\n",
       "      <td>1100</td>\n",
       "      <td>0.8</td>\n",
       "      <td>Yes</td>\n",
       "    </tr>\n",
       "    <tr>\n",
       "      <th>8</th>\n",
       "      <td>109</td>\n",
       "      <td>Chris Martin</td>\n",
       "      <td>North</td>\n",
       "      <td>6000</td>\n",
       "      <td>13</td>\n",
       "      <td>2200</td>\n",
       "      <td>1.2</td>\n",
       "      <td>No</td>\n",
       "    </tr>\n",
       "    <tr>\n",
       "      <th>9</th>\n",
       "      <td>110</td>\n",
       "      <td>Anna Taylor</td>\n",
       "      <td>South</td>\n",
       "      <td>3100</td>\n",
       "      <td>8</td>\n",
       "      <td>1350</td>\n",
       "      <td>0.9</td>\n",
       "      <td>Yes</td>\n",
       "    </tr>\n",
       "    <tr>\n",
       "      <th>10</th>\n",
       "      <td>111</td>\n",
       "      <td>James Anderson</td>\n",
       "      <td>East</td>\n",
       "      <td>4700</td>\n",
       "      <td>11</td>\n",
       "      <td>1900</td>\n",
       "      <td>1.1</td>\n",
       "      <td>No</td>\n",
       "    </tr>\n",
       "    <tr>\n",
       "      <th>11</th>\n",
       "      <td>112</td>\n",
       "      <td>Patricia Thomas</td>\n",
       "      <td>West</td>\n",
       "      <td>2600</td>\n",
       "      <td>5</td>\n",
       "      <td>1050</td>\n",
       "      <td>0.8</td>\n",
       "      <td>Yes</td>\n",
       "    </tr>\n",
       "    <tr>\n",
       "      <th>12</th>\n",
       "      <td>113</td>\n",
       "      <td>Robert Jackson</td>\n",
       "      <td>North</td>\n",
       "      <td>5500</td>\n",
       "      <td>12</td>\n",
       "      <td>2100</td>\n",
       "      <td>1.2</td>\n",
       "      <td>No</td>\n",
       "    </tr>\n",
       "    <tr>\n",
       "      <th>13</th>\n",
       "      <td>114</td>\n",
       "      <td>Mary Harris</td>\n",
       "      <td>South</td>\n",
       "      <td>3300</td>\n",
       "      <td>9</td>\n",
       "      <td>1450</td>\n",
       "      <td>1.0</td>\n",
       "      <td>Yes</td>\n",
       "    </tr>\n",
       "    <tr>\n",
       "      <th>14</th>\n",
       "      <td>115</td>\n",
       "      <td>Daniel Clark</td>\n",
       "      <td>East</td>\n",
       "      <td>4900</td>\n",
       "      <td>11</td>\n",
       "      <td>2000</td>\n",
       "      <td>1.1</td>\n",
       "      <td>No</td>\n",
       "    </tr>\n",
       "    <tr>\n",
       "      <th>15</th>\n",
       "      <td>116</td>\n",
       "      <td>Barbara Lewis</td>\n",
       "      <td>West</td>\n",
       "      <td>2700</td>\n",
       "      <td>6</td>\n",
       "      <td>1150</td>\n",
       "      <td>0.9</td>\n",
       "      <td>Yes</td>\n",
       "    </tr>\n",
       "  </tbody>\n",
       "</table>\n",
       "</div>"
      ],
      "text/plain": [
       "    Customer_ID    Customer_Name Region  Total_Spend  Purchase_Frequency  \\\n",
       "0           101         John Doe  North         5000                  12   \n",
       "1           102       Jane Smith  South         3000                   8   \n",
       "2           103        Sam Brown   East         4500                  10   \n",
       "3           104    Linda Johnson   West         2500                   5   \n",
       "4           105      Michael Lee  North         7000                  15   \n",
       "5           106      Emily Davis  South         3200                   7   \n",
       "6           107     David Wilson   East         5300                  14   \n",
       "7           108      Susan White   West         2900                   6   \n",
       "8           109     Chris Martin  North         6000                  13   \n",
       "9           110      Anna Taylor  South         3100                   8   \n",
       "10          111   James Anderson   East         4700                  11   \n",
       "11          112  Patricia Thomas   West         2600                   5   \n",
       "12          113   Robert Jackson  North         5500                  12   \n",
       "13          114      Mary Harris  South         3300                   9   \n",
       "14          115     Daniel Clark   East         4900                  11   \n",
       "15          116    Barbara Lewis   West         2700                   6   \n",
       "\n",
       "    Marketing_Spend  Seasonality_Index Churned  \n",
       "0              2000                1.2      No  \n",
       "1              1500                1.0     Yes  \n",
       "2              1800                1.1      No  \n",
       "3              1000                0.9     Yes  \n",
       "4              2500                1.3      No  \n",
       "5              1400                1.0     Yes  \n",
       "6              2300                1.2      No  \n",
       "7              1100                0.8     Yes  \n",
       "8              2200                1.2      No  \n",
       "9              1350                0.9     Yes  \n",
       "10             1900                1.1      No  \n",
       "11             1050                0.8     Yes  \n",
       "12             2100                1.2      No  \n",
       "13             1450                1.0     Yes  \n",
       "14             2000                1.1      No  \n",
       "15             1150                0.9     Yes  "
      ]
     },
     "execution_count": 2,
     "metadata": {},
     "output_type": "execute_result"
    }
   ],
   "source": [
    "df=pd.read_excel('raw_sales_data.xlsx') #load dataset\n",
    "df"
   ]
  },
  {
   "cell_type": "code",
   "execution_count": 3,
   "id": "1f3fcbd7",
   "metadata": {},
   "outputs": [
    {
     "name": "stdout",
     "output_type": "stream",
     "text": [
      "Shape of the dataset (16, 8)\n"
     ]
    }
   ],
   "source": [
    "print(\"Shape of the dataset\",df.shape)"
   ]
  },
  {
   "cell_type": "code",
   "execution_count": 4,
   "id": "430cae8e",
   "metadata": {},
   "outputs": [
    {
     "name": "stdout",
     "output_type": "stream",
     "text": [
      "Number of null values per column\n",
      "Customer_ID           0\n",
      "Customer_Name         0\n",
      "Region                0\n",
      "Total_Spend           0\n",
      "Purchase_Frequency    0\n",
      "Marketing_Spend       0\n",
      "Seasonality_Index     0\n",
      "Churned               0\n",
      "dtype: int64\n"
     ]
    }
   ],
   "source": [
    "null_counts=df.isnull().sum() #count null values in columns\n",
    "print(\"Number of null values per column\")\n",
    "print(null_counts)"
   ]
  },
  {
   "cell_type": "code",
   "execution_count": 5,
   "id": "c650b00b",
   "metadata": {},
   "outputs": [
    {
     "name": "stdout",
     "output_type": "stream",
     "text": [
      "<class 'pandas.core.frame.DataFrame'>\n",
      "RangeIndex: 16 entries, 0 to 15\n",
      "Data columns (total 8 columns):\n",
      " #   Column              Non-Null Count  Dtype  \n",
      "---  ------              --------------  -----  \n",
      " 0   Customer_ID         16 non-null     int64  \n",
      " 1   Customer_Name       16 non-null     object \n",
      " 2   Region              16 non-null     object \n",
      " 3   Total_Spend         16 non-null     int64  \n",
      " 4   Purchase_Frequency  16 non-null     int64  \n",
      " 5   Marketing_Spend     16 non-null     int64  \n",
      " 6   Seasonality_Index   16 non-null     float64\n",
      " 7   Churned             16 non-null     object \n",
      "dtypes: float64(1), int64(4), object(3)\n",
      "memory usage: 1.1+ KB\n"
     ]
    }
   ],
   "source": [
    "df.info()"
   ]
  },
  {
   "cell_type": "code",
   "execution_count": 6,
   "id": "22583d8e",
   "metadata": {},
   "outputs": [
    {
     "data": {
      "text/plain": [
       "0"
      ]
     },
     "execution_count": 6,
     "metadata": {},
     "output_type": "execute_result"
    }
   ],
   "source": [
    "# to find number of duplicates in data set\n",
    "no_of_duplicates=df.duplicated().sum()\n",
    "no_of_duplicates"
   ]
  },
  {
   "cell_type": "code",
   "execution_count": 7,
   "id": "24e8fa69",
   "metadata": {},
   "outputs": [],
   "source": [
    "df.loc[2, 'Total_Spend'] = None\n",
    "df.loc[5, 'Seasonality_Index'] = None\n",
    "df.loc[7, 'Region'] = None"
   ]
  },
  {
   "cell_type": "code",
   "execution_count": 8,
   "id": "e44dbd60",
   "metadata": {},
   "outputs": [],
   "source": [
    "#impute with mean\n",
    "df['Total_Spend'] = df['Total_Spend'].fillna(df['Total_Spend'].mean())"
   ]
  },
  {
   "cell_type": "code",
   "execution_count": 9,
   "id": "bf5a084e",
   "metadata": {},
   "outputs": [],
   "source": [
    "#impute with median\n",
    "df['Seasonality_Index'] = df['Seasonality_Index'].fillna(df['Seasonality_Index'].median())"
   ]
  },
  {
   "cell_type": "code",
   "execution_count": 10,
   "id": "eb23cabe",
   "metadata": {},
   "outputs": [],
   "source": [
    "# Impute with mode (for categorical columns)\n",
    "df['Region'] = df['Region'].fillna(df['Region'].mode()[0])"
   ]
  },
  {
   "cell_type": "code",
   "execution_count": 11,
   "id": "27c41bbb",
   "metadata": {},
   "outputs": [
    {
     "name": "stdout",
     "output_type": "stream",
     "text": [
      "Missing values after imputation:\n",
      "Customer_ID           0\n",
      "Customer_Name         0\n",
      "Region                0\n",
      "Total_Spend           0\n",
      "Purchase_Frequency    0\n",
      "Marketing_Spend       0\n",
      "Seasonality_Index     0\n",
      "Churned               0\n",
      "dtype: int64\n"
     ]
    }
   ],
   "source": [
    "print(\"Missing values after imputation:\")\n",
    "print(df.isnull().sum())"
   ]
  },
  {
   "cell_type": "code",
   "execution_count": 12,
   "id": "d60672c1",
   "metadata": {},
   "outputs": [
    {
     "name": "stdout",
     "output_type": "stream",
     "text": [
      "Shape after Z-score outlier removal: (16, 8)\n"
     ]
    }
   ],
   "source": [
    "from scipy import stats\n",
    "numeric_cols = df.select_dtypes(include=[np.number]).columns\n",
    "# Compute Z-scores\n",
    "z_scores = np.abs(stats.zscore(df[numeric_cols]))\n",
    "\n",
    "threshold=3\n",
    "\n",
    "# Filter: keep only rows where all z-scores < threshold\n",
    "df_zscore_cleaned = df[(z_scores < threshold).all(axis=1)]\n",
    "\n",
    "print(\"Shape after Z-score outlier removal:\", df_zscore_cleaned.shape)"
   ]
  },
  {
   "cell_type": "markdown",
   "id": "89f767af",
   "metadata": {},
   "source": [
    "# 2. Predictive Modeling for Sales Forecasting"
   ]
  },
  {
   "cell_type": "code",
   "execution_count": 13,
   "id": "82513eff",
   "metadata": {},
   "outputs": [
    {
     "name": "stdout",
     "output_type": "stream",
     "text": [
      "Mean Squared Error : 164480.30943515964\n",
      "R-Squares : 0.9103394375077112\n",
      "Coefficients : [ 2.57495591 17.6366843 ]\n",
      "Intercept : -149.38271604938382\n"
     ]
    }
   ],
   "source": [
    "# LinearRegression\n",
    "\n",
    "x=df[['Marketing_Spend','Seasonality_Index']]\n",
    "y=df['Total_Spend']\n",
    "\n",
    "# split into train/test sets\n",
    "x_train,x_test,y_train,y_test=train_test_split(x,y,test_size=0.5, random_state=47)\n",
    "\n",
    "#create and train model\n",
    "model=LinearRegression()\n",
    "model.fit(x_train,y_train)\n",
    "\n",
    "#predict\n",
    "y_pred=model.predict(x_test)\n",
    "\n",
    "#Evulate\n",
    "mse=mean_squared_error(y_test,y_pred)\n",
    "r2=r2_score(y_test,y_pred)\n",
    "\n",
    "print(\"Mean Squared Error :\",mse)\n",
    "print(\"R-Squares :\", r2)\n",
    "print(\"Coefficients :\",model.coef_)\n",
    "print(\"Intercept :\",model.intercept_)"
   ]
  },
  {
   "cell_type": "code",
   "execution_count": 14,
   "id": "ca6624af",
   "metadata": {},
   "outputs": [
    {
     "name": "stdout",
     "output_type": "stream",
     "text": [
      "Accuracy: 0.875\n",
      "Confusion Matrix:\n",
      " [[3 1]\n",
      " [0 4]]\n",
      "Classification Report:\n",
      "               precision    recall  f1-score   support\n",
      "\n",
      "           0       1.00      0.75      0.86         4\n",
      "           1       0.80      1.00      0.89         4\n",
      "\n",
      "    accuracy                           0.88         8\n",
      "   macro avg       0.90      0.88      0.87         8\n",
      "weighted avg       0.90      0.88      0.87         8\n",
      "\n"
     ]
    }
   ],
   "source": [
    "# Logistic Regression\n",
    "\n",
    "# Encode the target column ('Churned': Yes/No) into binary\n",
    "le = LabelEncoder()\n",
    "df['Churned_Encoded'] = le.fit_transform(df['Churned'])  # Yes=1, No=0\n",
    "\n",
    "# Define features and target\n",
    "X = df[['Total_Spend', 'Marketing_Spend', 'Seasonality_Index', 'Purchase_Frequency']]\n",
    "y = df['Churned_Encoded']\n",
    "\n",
    "# Split into training/testing sets\n",
    "X_train, X_test, y_train, y_test = train_test_split(X, y, test_size=0.5, random_state=47)\n",
    "\n",
    "\n",
    "# Logistic Regression with higher max_iter and alternative solver\n",
    "model = LogisticRegression(max_iter=1000, solver='liblinear')\n",
    "model.fit(X_train, y_train)\n",
    "\n",
    "# Predict on test set\n",
    "y_pred = model.predict(X_test)\n",
    "\n",
    "# Evaluate the model\n",
    "accuracy = accuracy_score(y_test, y_pred)\n",
    "conf_matrix = confusion_matrix(y_test, y_pred)\n",
    "report = classification_report(y_test, y_pred)\n",
    "\n",
    "# Output\n",
    "print(\"Accuracy:\", accuracy)\n",
    "print(\"Confusion Matrix:\\n\", conf_matrix)\n",
    "print(\"Classification Report:\\n\", report)"
   ]
  },
  {
   "cell_type": "code",
   "execution_count": 15,
   "id": "9b30bfea",
   "metadata": {},
   "outputs": [
    {
     "data": {
      "image/png": "[encoded data removed]",
      "text/plain": [
       "<Figure size 720x288 with 1 Axes>"
      ]
     },
     "metadata": {
      "needs_background": "light"
     },
     "output_type": "display_data"
    }
   ],
   "source": [
    "from pmdarima import auto_arima\n",
    "\n",
    "# Create a time index (assume monthly)\n",
    "df['Month'] = pd.date_range(start='2023-01-01', periods=len(df), freq='MS')\n",
    "df.set_index('Month', inplace=True)\n",
    "\n",
    "# Use Total_Spend as time series\n",
    "ts = df['Total_Spend']\n",
    "\n",
    "# Auto ARIMA model\n",
    "model = auto_arima(ts, seasonal=False, stepwise=True)\n",
    "\n",
    "# Forecast next 6 months\n",
    "forecast = model.predict(n_periods=6)\n",
    "\n",
    "# Create future dates for plotting\n",
    "future_index = pd.date_range(start=ts.index[-1] + pd.DateOffset(months=1), periods=6, freq='MS')\n",
    "\n",
    "# Plot\n",
    "plt.figure(figsize=(10, 4))\n",
    "plt.plot(ts, label='Historical')\n",
    "plt.plot(future_index, forecast, label='Forecast', marker='o')\n",
    "\n",
    "# Add value labels\n",
    "for i, val in zip(future_index, forecast):\n",
    "    plt.text(i, val, f\"{val:.0f}\", ha='center', va='bottom', fontsize=9)\n",
    "\n",
    "plt.title(\"Auto ARIMA Forecast\")\n",
    "plt.xlabel(\"Month\")\n",
    "plt.ylabel(\"Total Spend\")\n",
    "plt.legend()\n",
    "plt.grid(True)\n",
    "plt.tight_layout()\n",
    "plt.show()"
   ]
  },
  {
   "cell_type": "markdown",
   "id": "000d402c",
   "metadata": {},
   "source": [
    "# 3. Statistical Analysis for Business Insights"
   ]
  },
  {
   "cell_type": "code",
   "execution_count": 16,
   "id": "60be6e75",
   "metadata": {},
   "outputs": [],
   "source": [
    "from scipy.stats import f_oneway"
   ]
  },
  {
   "cell_type": "code",
   "execution_count": 17,
   "id": "74828fa3",
   "metadata": {},
   "outputs": [
    {
     "name": "stdout",
     "output_type": "stream",
     "text": [
      "ANOVA F-statistic: 16.283334346689355\n",
      "P-value: 0.0001572261937237853\n",
      "Statistically significant difference in sales across regions (reject H0)\n"
     ]
    }
   ],
   "source": [
    "# ANOVA\n",
    "\n",
    "# Group Total_Spend by Region\n",
    "regions = df['Region'].unique()\n",
    "sales_by_region = [df[df['Region'] == region]['Total_Spend'] for region in regions]\n",
    "\n",
    "# Perform one-way ANOVA\n",
    "f_stat, p_value = f_oneway(*sales_by_region)\n",
    "\n",
    "# Output results\n",
    "print(\"ANOVA F-statistic:\", f_stat)\n",
    "print(\"P-value:\", p_value)\n",
    "\n",
    "# Interpret result\n",
    "if p_value < 0.10:\n",
    "    print(\"Statistically significant difference in sales across regions (reject H0)\")\n",
    "else:\n",
    "    print(\"No statistically significant difference in sales across regions (fail to reject H0)\")"
   ]
  },
  {
   "cell_type": "code",
   "execution_count": 18,
   "id": "c9b8d36a",
   "metadata": {},
   "outputs": [
    {
     "name": "stdout",
     "output_type": "stream",
     "text": [
      "P-value: 3.780492527237806e-06\n",
      "Promotion has significant impact on sales.\n"
     ]
    }
   ],
   "source": [
    "# Hypothesis Testing\n",
    "\n",
    "from scipy.stats import ttest_ind\n",
    "# Create a simple Promotion column for demo (1 = promo, 0 = no promo)\n",
    "df['Promotion'] = [1 if i % 2 == 0 else 0 for i in range(len(df))]\n",
    "\n",
    "# Split data\n",
    "promo = df[df['Promotion'] == 1]['Total_Spend']\n",
    "no_promo = df[df['Promotion'] == 0]['Total_Spend']\n",
    "\n",
    "# T-test\n",
    "t_stat, p = ttest_ind(promo, no_promo)\n",
    "\n",
    "# Print result\n",
    "print(\"P-value:\", p)\n",
    "if p < 0.05:\n",
    "    print(\"Promotion has significant impact on sales.\")\n",
    "else:\n",
    "    print(\"No significant impact from promotion.\")\n"
   ]
  },
  {
   "cell_type": "code",
   "execution_count": 19,
   "id": "e8947885",
   "metadata": {},
   "outputs": [
    {
     "name": "stdout",
     "output_type": "stream",
     "text": [
      "Factor Loadings:\n",
      "\n",
      "                     Factor1   Factor2\n",
      "Total_Spend         0.970189 -0.017096\n",
      "Marketing_Spend     0.998396  0.005355\n",
      "Purchase_Frequency  0.991845 -0.059107\n",
      "Seasonality_Index   0.941683  0.223978\n"
     ]
    }
   ],
   "source": [
    "# Factor Analysis\n",
    "\n",
    "from sklearn.decomposition import FactorAnalysis\n",
    "from sklearn.preprocessing import StandardScaler\n",
    "\n",
    "# Select relevant numerical features\n",
    "features = ['Total_Spend', 'Marketing_Spend', 'Purchase_Frequency', 'Seasonality_Index']\n",
    "X = df[features]\n",
    "\n",
    "# Standardize the data\n",
    "scaler = StandardScaler()\n",
    "X_scaled = scaler.fit_transform(X)\n",
    "\n",
    "# Apply Factor Analysis (let's extract 2 factors)\n",
    "fa = FactorAnalysis(n_components=2, random_state=42)\n",
    "factors = fa.fit_transform(X_scaled)\n",
    "\n",
    "# Create a DataFrame with factor loadings\n",
    "loadings = pd.DataFrame(fa.components_.T, index=features, columns=['Factor1', 'Factor2'])\n",
    "\n",
    "print(\"Factor Loadings:\\n\")\n",
    "print(loadings)"
   ]
  },
  {
   "cell_type": "markdown",
   "id": "b7b14d0b",
   "metadata": {},
   "source": [
    "# 4. Machine Learning for Customer Segmentation"
   ]
  },
  {
   "cell_type": "code",
   "execution_count": 20,
   "id": "bc4e564a",
   "metadata": {},
   "outputs": [
    {
     "data": {
      "image/png": "[encoded data removed]",
      "text/plain": [
       "<Figure size 720x432 with 1 Axes>"
      ]
     },
     "metadata": {
      "needs_background": "light"
     },
     "output_type": "display_data"
    }
   ],
   "source": [
    "# Decision Tree\n",
    "\n",
    "# Label customers: 1 = High spender, 0 = Low spender\n",
    "df['Segment'] = (df['Total_Spend'] > df['Total_Spend'].median()).astype(int)\n",
    "\n",
    "# Select features\n",
    "X = df[['Marketing_Spend', 'Purchase_Frequency', 'Seasonality_Index']]\n",
    "y = df['Segment']\n",
    "\n",
    "# Train decision tree\n",
    "model = DecisionTreeClassifier()\n",
    "model.fit(X, y)\n",
    "\n",
    "# Plot tree\n",
    "plt.figure(figsize=(10, 6))\n",
    "plot_tree(model, feature_names=X.columns, class_names=['Low', 'High'], filled=True)\n",
    "plt.show()"
   ]
  },
  {
   "cell_type": "code",
   "execution_count": 21,
   "id": "6618b015",
   "metadata": {},
   "outputs": [
    {
     "name": "stdout",
     "output_type": "stream",
     "text": [
      "              Customer_Name  Total_Spend  Cluster\n",
      "Month                                            \n",
      "2023-01-01         John Doe  5000.000000        0\n",
      "2023-02-01       Jane Smith  3000.000000        1\n",
      "2023-03-01        Sam Brown  4113.333333        0\n",
      "2023-04-01    Linda Johnson  2500.000000        1\n",
      "2023-05-01      Michael Lee  7000.000000        2\n",
      "2023-06-01      Emily Davis  3200.000000        1\n",
      "2023-07-01     David Wilson  5300.000000        0\n",
      "2023-08-01      Susan White  2900.000000        1\n",
      "2023-09-01     Chris Martin  6000.000000        2\n",
      "2023-10-01      Anna Taylor  3100.000000        1\n",
      "2023-11-01   James Anderson  4700.000000        0\n",
      "2023-12-01  Patricia Thomas  2600.000000        1\n",
      "2024-01-01   Robert Jackson  5500.000000        0\n",
      "2024-02-01      Mary Harris  3300.000000        1\n",
      "2024-03-01     Daniel Clark  4900.000000        0\n",
      "2024-04-01    Barbara Lewis  2700.000000        1\n"
     ]
    }
   ],
   "source": [
    "# Implement K-Means Clustering to group customers into different spending categories\n",
    "\n",
    "from sklearn.cluster import KMeans\n",
    "# Use Total_Spend only for simple clustering\n",
    "X = df[['Total_Spend']]\n",
    "\n",
    "# Apply K-Means (3 groups)\n",
    "kmeans = KMeans(n_clusters=3, random_state=0)\n",
    "df['Cluster'] = kmeans.fit_predict(X)\n",
    "\n",
    "# Show result\n",
    "print(df[['Customer_Name', 'Total_Spend', 'Cluster']])"
   ]
  },
  {
   "cell_type": "code",
   "execution_count": 22,
   "id": "9500da6c",
   "metadata": {},
   "outputs": [
    {
     "name": "stdout",
     "output_type": "stream",
     "text": [
      "              Customer_Name  Total_Spend  Spending_Cluster\n",
      "Month                                                     \n",
      "2023-01-01         John Doe  5000.000000                 1\n",
      "2023-02-01       Jane Smith  3000.000000                 0\n",
      "2023-03-01        Sam Brown  4113.333333                 0\n",
      "2023-04-01    Linda Johnson  2500.000000                 2\n",
      "2023-05-01      Michael Lee  7000.000000                 1\n",
      "2023-06-01      Emily Davis  3200.000000                 0\n",
      "2023-07-01     David Wilson  5300.000000                 1\n",
      "2023-08-01      Susan White  2900.000000                 2\n",
      "2023-09-01     Chris Martin  6000.000000                 1\n",
      "2023-10-01      Anna Taylor  3100.000000                 2\n",
      "2023-11-01   James Anderson  4700.000000                 1\n",
      "2023-12-01  Patricia Thomas  2600.000000                 2\n",
      "2024-01-01   Robert Jackson  5500.000000                 1\n",
      "2024-02-01      Mary Harris  3300.000000                 0\n",
      "2024-03-01     Daniel Clark  4900.000000                 1\n",
      "2024-04-01    Barbara Lewis  2700.000000                 2\n"
     ]
    },
    {
     "data": {
      "image/png": "[encoded data removed]",
      "text/plain": [
       "<Figure size 576x360 with 1 Axes>"
      ]
     },
     "metadata": {
      "needs_background": "light"
     },
     "output_type": "display_data"
    }
   ],
   "source": [
    "# Select relevant features\n",
    "X = df[['Total_Spend', 'Marketing_Spend', 'Purchase_Frequency', 'Seasonality_Index']]\n",
    "\n",
    "# Scale the data\n",
    "scaler = StandardScaler()\n",
    "X_scaled = scaler.fit_transform(X)\n",
    "\n",
    "# Apply K-Means with 3 clusters (Low, Medium, High spenders)\n",
    "kmeans = KMeans(n_clusters=3, random_state=42)\n",
    "df['Spending_Cluster'] = kmeans.fit_predict(X_scaled)\n",
    "\n",
    "# Show clustered data\n",
    "print(df[['Customer_Name', 'Total_Spend', 'Spending_Cluster']])\n",
    "\n",
    "# Optional: Plot clusters (2D view using just Total_Spend vs Marketing_Spend)\n",
    "plt.figure(figsize=(8, 5))\n",
    "plt.scatter(df['Total_Spend'], df['Marketing_Spend'], c=df['Spending_Cluster'], cmap='viridis')\n",
    "plt.xlabel('Total Spend')\n",
    "plt.ylabel('Marketing Spend')\n",
    "plt.title('Customer Spending Clusters')\n",
    "plt.grid(True)\n",
    "plt.show()"
   ]
  },
  {
   "cell_type": "code",
   "execution_count": 23,
   "id": "0127f4b1",
   "metadata": {},
   "outputs": [],
   "source": [
    "from xgboost import XGBClassifier\n",
    "from sklearn.preprocessing import LabelEncoder, StandardScaler"
   ]
  },
  {
   "cell_type": "code",
   "execution_count": 24,
   "id": "ee7ec965",
   "metadata": {},
   "outputs": [
    {
     "name": "stdout",
     "output_type": "stream",
     "text": [
      "Random Forest\n",
      "Accuracy: 1.0\n",
      "              precision    recall  f1-score   support\n",
      "\n",
      "           0       1.00      1.00      1.00         2\n",
      "           1       1.00      1.00      1.00         2\n",
      "\n",
      "    accuracy                           1.00         4\n",
      "   macro avg       1.00      1.00      1.00         4\n",
      "weighted avg       1.00      1.00      1.00         4\n",
      "\n",
      "XGBoost\n",
      "Accuracy: 1.0\n",
      "              precision    recall  f1-score   support\n",
      "\n",
      "           0       1.00      1.00      1.00         2\n",
      "           1       1.00      1.00      1.00         2\n",
      "\n",
      "    accuracy                           1.00         4\n",
      "   macro avg       1.00      1.00      1.00         4\n",
      "weighted avg       1.00      1.00      1.00         4\n",
      "\n"
     ]
    }
   ],
   "source": [
    "# Encode the target column 'Churned' (Yes/No -> 1/0)\n",
    "le = LabelEncoder()\n",
    "df['Churned_Encoded'] = le.fit_transform(df['Churned'])\n",
    "\n",
    "# Select features and target\n",
    "X = df[['Total_Spend', 'Marketing_Spend', 'Purchase_Frequency', 'Seasonality_Index']]\n",
    "y = df['Churned_Encoded']\n",
    "\n",
    "# Scale features (optional but helpful)\n",
    "scaler = StandardScaler()\n",
    "X_scaled = scaler.fit_transform(X)\n",
    "\n",
    "# Split into train and test sets\n",
    "X_train, X_test, y_train, y_test = train_test_split(X_scaled, y, test_size=0.2, random_state=42)\n",
    "\n",
    "# Train Random Forest\n",
    "rf_model = RandomForestClassifier(random_state=42)\n",
    "rf_model.fit(X_train, y_train)\n",
    "rf_preds = rf_model.predict(X_test)\n",
    "\n",
    "# Evaluate\n",
    "print(\"Random Forest\")\n",
    "print(\"Accuracy:\", accuracy_score(y_test, rf_preds))\n",
    "print(classification_report(y_test, rf_preds))\n",
    "\n",
    "# Train XGBoost\n",
    "xgb_model = XGBClassifier(eval_metric='logloss', random_state=42)\n",
    "xgb_model.fit(X_train, y_train)\n",
    "xgb_preds = xgb_model.predict(X_test)\n",
    "\n",
    "# Evaluate\n",
    "print(\"XGBoost\")\n",
    "print(\"Accuracy:\", accuracy_score(y_test, xgb_preds))\n",
    "print(classification_report(y_test, xgb_preds))\n"
   ]
  }
 ],
 "metadata": {
  "kernelspec": {
   "display_name": "Python 3 (ipykernel)",
   "language": "python",
   "name": "python3"
  },
  "language_info": {
   "codemirror_mode": {
    "name": "ipython",
    "version": 3
   },
   "file_extension": ".py",
   "mimetype": "text/x-python",
   "name": "python",
   "nbconvert_exporter": "python",
   "pygments_lexer": "ipython3",
   "version": "3.9.7"
  }
 },
 "nbformat": 4,
 "nbformat_minor": 5
}
